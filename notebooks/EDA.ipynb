{
 "cells": [
  {
   "cell_type": "markdown",
   "id": "ebcbb413",
   "metadata": {},
   "source": [
    "## 1 - Importando as bibliotecas e lendo o arquivo CSV"
   ]
  },
  {
   "cell_type": "code",
   "execution_count": 82,
   "id": "3fb91d48",
   "metadata": {},
   "outputs": [],
   "source": [
    "#Importando as bibliotecas\n",
    "import pandas as pd \n",
    "import numpy as np\n",
    "import plotly.express as px\n",
    "import matplotlib.pyplot as plt"
   ]
  },
  {
   "cell_type": "code",
   "execution_count": 83,
   "id": "e2764a25",
   "metadata": {},
   "outputs": [],
   "source": [
    "import plotly.io as pio\n",
    "pio.renderers.default = 'browser'"
   ]
  },
  {
   "cell_type": "code",
   "execution_count": 84,
   "id": "4b5724d3",
   "metadata": {},
   "outputs": [],
   "source": [
    "#Lendo o arquivo CSV\n",
    "df = pd.read_csv('../vehicles.csv')"
   ]
  },
  {
   "cell_type": "markdown",
   "id": "99f7cd50",
   "metadata": {},
   "source": [
    "## 2 - Visualizando os dados"
   ]
  },
  {
   "cell_type": "code",
   "execution_count": 85,
   "id": "a089572f",
   "metadata": {},
   "outputs": [
    {
     "data": {
      "text/plain": [
       "<bound method DataFrame.info of        price  model_year           model  condition  cylinders fuel  odometer  \\\n",
       "0       9400      2011.0          bmw x5       good        6.0  gas  145000.0   \n",
       "1      25500         NaN      ford f-150       good        6.0  gas   88705.0   \n",
       "2       5500      2013.0  hyundai sonata   like new        4.0  gas  110000.0   \n",
       "3       1500      2003.0      ford f-150       fair        8.0  gas       NaN   \n",
       "4      14900      2017.0    chrysler 200  excellent        4.0  gas   80903.0   \n",
       "...      ...         ...             ...        ...        ...  ...       ...   \n",
       "51520   9249      2013.0   nissan maxima   like new        6.0  gas   88136.0   \n",
       "51521   2700      2002.0     honda civic    salvage        4.0  gas  181500.0   \n",
       "51522   3950      2009.0  hyundai sonata  excellent        4.0  gas  128000.0   \n",
       "51523   7455      2013.0  toyota corolla       good        4.0  gas  139573.0   \n",
       "51524   6300      2014.0   nissan altima       good        4.0  gas       NaN   \n",
       "\n",
       "      transmission    type paint_color  is_4wd date_posted  days_listed  \n",
       "0        automatic     SUV         NaN     1.0  2018-06-23           19  \n",
       "1        automatic  pickup       white     1.0  2018-10-19           50  \n",
       "2        automatic   sedan         red     NaN  2019-02-07           79  \n",
       "3        automatic  pickup         NaN     NaN  2019-03-22            9  \n",
       "4        automatic   sedan       black     NaN  2019-04-02           28  \n",
       "...            ...     ...         ...     ...         ...          ...  \n",
       "51520    automatic   sedan       black     NaN  2018-10-03           37  \n",
       "51521    automatic   sedan       white     NaN  2018-11-14           22  \n",
       "51522    automatic   sedan        blue     NaN  2018-11-15           32  \n",
       "51523    automatic   sedan       black     NaN  2018-07-02           71  \n",
       "51524    automatic   sedan         NaN     NaN  2018-06-05           10  \n",
       "\n",
       "[51525 rows x 13 columns]>"
      ]
     },
     "execution_count": 85,
     "metadata": {},
     "output_type": "execute_result"
    }
   ],
   "source": [
    "#Imprimindo informações do df\n",
    "df.info"
   ]
  },
  {
   "cell_type": "code",
   "execution_count": 86,
   "id": "fb3652af",
   "metadata": {},
   "outputs": [
    {
     "data": {
      "text/plain": [
       "price             int64\n",
       "model_year      float64\n",
       "model            object\n",
       "condition        object\n",
       "cylinders       float64\n",
       "fuel             object\n",
       "odometer        float64\n",
       "transmission     object\n",
       "type             object\n",
       "paint_color      object\n",
       "is_4wd          float64\n",
       "date_posted      object\n",
       "days_listed       int64\n",
       "dtype: object"
      ]
     },
     "execution_count": 86,
     "metadata": {},
     "output_type": "execute_result"
    }
   ],
   "source": [
    "#Visualizando os tipos de cada coluna\n",
    "df.dtypes"
   ]
  },
  {
   "cell_type": "markdown",
   "id": "fffa346a",
   "metadata": {},
   "source": [
    "## 3 - Preparação dos dados\n",
    "- Convertendo os tipos dos dados\n",
    "- Tratando ausentes\n",
    "- Identificando dados duplicados\n",
    "- Enriquecendo os dados"
   ]
  },
  {
   "cell_type": "code",
   "execution_count": 87,
   "id": "38410fe5",
   "metadata": {},
   "outputs": [
    {
     "data": {
      "text/plain": [
       "price                    int64\n",
       "model_year               Int64\n",
       "model                   object\n",
       "condition               object\n",
       "cylinders                Int64\n",
       "fuel                    object\n",
       "odometer                 Int64\n",
       "transmission            object\n",
       "type                    object\n",
       "paint_color             object\n",
       "is_4wd                    bool\n",
       "date_posted     datetime64[ns]\n",
       "days_listed              int64\n",
       "dtype: object"
      ]
     },
     "execution_count": 87,
     "metadata": {},
     "output_type": "execute_result"
    }
   ],
   "source": [
    "#Convertendo as colunas para os tipos corretos\n",
    "df['model_year'] = df['model_year'].astype('Int64')\n",
    "df['cylinders'] = df['cylinders'].astype('Int64')\n",
    "df['odometer'] = df['odometer'].astype('Int64')\n",
    "df['is_4wd'] = df['is_4wd'].fillna(0).astype(bool)\n",
    "df['date_posted'] = pd.to_datetime(df['date_posted'])\n",
    "\n",
    "\n",
    "#Checando a alteração\n",
    "df.dtypes"
   ]
  },
  {
   "cell_type": "code",
   "execution_count": 88,
   "id": "9b4bea82",
   "metadata": {},
   "outputs": [
    {
     "name": "stdout",
     "output_type": "stream",
     "text": [
      "price              0\n",
      "model_year      3619\n",
      "model              0\n",
      "condition          0\n",
      "cylinders       5260\n",
      "fuel               0\n",
      "odometer        7892\n",
      "transmission       0\n",
      "type               0\n",
      "paint_color     9267\n",
      "is_4wd             0\n",
      "date_posted        0\n",
      "days_listed        0\n",
      "dtype: int64\n"
     ]
    }
   ],
   "source": [
    "#Procurando por valores ausentes\n",
    "df_nan = df.isna().sum()\n",
    "print(df_nan)"
   ]
  },
  {
   "cell_type": "code",
   "execution_count": 89,
   "id": "66349a3c",
   "metadata": {},
   "outputs": [],
   "source": [
    "#Tratando valores ausentes nas colunas model_year e paint_color\n",
    "df['paint_color'] = df['paint_color'].fillna('unknown')\n",
    "\n",
    "for model in df['model'].unique():\n",
    "    most_common_year = df.loc[(df['model'] == model) & (df['model_year'].notna()), 'model_year'].mode()\n",
    "\n",
    "    if not most_common_year.empty:\n",
    "        df.loc[(df['model'] == model) & (df['model_year'].isna()), 'model_year'] = most_common_year.iloc[0]\n"
   ]
  },
  {
   "cell_type": "code",
   "execution_count": 90,
   "id": "79842008",
   "metadata": {},
   "outputs": [
    {
     "name": "stdout",
     "output_type": "stream",
     "text": [
      "price              0\n",
      "model_year         0\n",
      "model              0\n",
      "condition          0\n",
      "cylinders       5260\n",
      "fuel               0\n",
      "odometer        7892\n",
      "transmission       0\n",
      "type               0\n",
      "paint_color        0\n",
      "is_4wd             0\n",
      "date_posted        0\n",
      "days_listed        0\n",
      "dtype: int64\n"
     ]
    }
   ],
   "source": [
    "#Checando as alterações\n",
    "print(df.isna().sum())"
   ]
  },
  {
   "cell_type": "code",
   "execution_count": 91,
   "id": "a6e1b349",
   "metadata": {},
   "outputs": [
    {
     "name": "stdout",
     "output_type": "stream",
     "text": [
      "0\n"
     ]
    }
   ],
   "source": [
    "#Procurando por valores duplicados\n",
    "df_duplicated = df.duplicated().sum()\n",
    "print(df_duplicated)"
   ]
  },
  {
   "cell_type": "code",
   "execution_count": 92,
   "id": "ef99c1b4",
   "metadata": {},
   "outputs": [
    {
     "name": "stdout",
     "output_type": "stream",
     "text": [
      "0         7\n",
      "1         5\n",
      "2         6\n",
      "3        16\n",
      "4         2\n",
      "         ..\n",
      "51520     5\n",
      "51521    16\n",
      "51522     9\n",
      "51523     5\n",
      "51524     4\n",
      "Name: vehicle_age, Length: 51525, dtype: Int64\n"
     ]
    }
   ],
   "source": [
    "#Criando a coluna vehicle_age (idade aproximada do carro)\n",
    "df['vehicle_age'] = df['date_posted'].dt.year - df['model_year']\n",
    "\n",
    "print(df['vehicle_age'])"
   ]
  },
  {
   "cell_type": "markdown",
   "id": "e597b609",
   "metadata": {},
   "source": [
    "## 4 - Análise exploratória de dados"
   ]
  },
  {
   "cell_type": "code",
   "execution_count": 93,
   "id": "a55bdd26",
   "metadata": {},
   "outputs": [],
   "source": [
    "#Criando um gráfico para analisar a distribuição dos preços dos carros\n",
    "\n",
    "df_filtered = df[df['price'] < 70000] #Filtrando por preços abaixo de 70.000 (para melhor visualização)\n",
    "\n",
    "\n",
    "fig = px.histogram(\n",
    "    df_filtered,\n",
    "    x='price',\n",
    "    nbins=50,\n",
    "    title='Distribuição dos preços dos carros (até $70.000)',\n",
    "    labels={'price': 'Preço ($)'},\n",
    "    color_discrete_sequence=['skyblue']\n",
    ")\n",
    "\n",
    "fig.update_layout(\n",
    "    bargap=0.1,\n",
    "    xaxis_title='Preço ($)',\n",
    "    yaxis_title='Quantidade de carros',\n",
    "    template='simple_white'\n",
    ")\n",
    "\n",
    "fig.show()"
   ]
  },
  {
   "cell_type": "code",
   "execution_count": 94,
   "id": "dee992b6",
   "metadata": {},
   "outputs": [],
   "source": [
    "#Criando um gráfico de dispersão para analisar a relação entre preço e quilometragem\n",
    "fig = px.scatter(\n",
    "    df,\n",
    "    x='odometer',\n",
    "    y='price',\n",
    "    title='Relação entre preço e quilometragem dos carros',\n",
    "    labels={'odometer': 'Quilometragem', 'price': 'Preço ($)'},\n",
    "    opacity=0.6,\n",
    ")\n",
    "\n",
    "fig.show()"
   ]
  },
  {
   "cell_type": "code",
   "execution_count": null,
   "id": "09c458e0",
   "metadata": {},
   "outputs": [],
   "source": [
    "#Mostrando a relação entre a média de preço e a idade do carro\n",
    "\n",
    "price_by_age = df.groupby('vehicle_age')['price'].mean().reset_index()\n",
    "\n",
    "fig = px.line(\n",
    "    price_by_age,\n",
    "    x='vehicle_age',\n",
    "    y='price',\n",
    "    title='Preço Médio por Idade do Carro',\n",
    "    labels={'vehicle_age': 'Idade do carro (anos)', 'price': 'Preço Médio (R$)'},\n",
    ")\n",
    "\n",
    "fig.show()"
   ]
  },
  {
   "cell_type": "code",
   "execution_count": 100,
   "id": "0288889b",
   "metadata": {},
   "outputs": [],
   "source": [
    "#Analisando a relação entre o preço médio e a marca do carro\n",
    "\n",
    "#Criando a coluna brand a partir da primeira palavra de 'model'\n",
    "df['brand'] = df['model'].str.split().str[0]\n",
    "\n",
    "#Calculando o preço médio por marca\n",
    "price_by_brand = df.groupby('brand')['price'].mean().reset_index().sort_values(by='price', ascending=False)\n",
    "\n",
    "#Criando o gráfico de barras\n",
    "fig = px.bar(\n",
    "    price_by_brand,\n",
    "    x='brand',\n",
    "    y='price',\n",
    "    title='Preço médio por marca de carro',\n",
    "    labels={'brand': 'Marca', 'price': 'Preço médio ($)'},\n",
    "    color_discrete_sequence=['steelblue']\n",
    ")\n",
    "\n",
    "fig.update_layout(xaxis_tickangle=-45)\n",
    "fig.show()"
   ]
  },
  {
   "cell_type": "code",
   "execution_count": 101,
   "id": "a480efdd",
   "metadata": {},
   "outputs": [],
   "source": [
    "#Calculando o tempo médio de venda por marca\n",
    "\n",
    "days_by_brand = df.groupby('brand')['days_listed'].mean().reset_index().sort_values(by='days_listed', ascending=False)\n",
    "\n",
    "#Criando o gráfico de barras\n",
    "fig = px.bar(\n",
    "    days_by_brand,\n",
    "    x='brand',\n",
    "    y='days_listed',\n",
    "    title='Tempo médio de venda por marca de carro',\n",
    "    labels={'brand': 'Marca', 'days_listed': 'Dias listados'},\n",
    "    color_discrete_sequence=['indianred']\n",
    ")\n",
    "\n",
    "fig.update_layout(xaxis_tickangle=-45)\n",
    "fig.show()"
   ]
  },
  {
   "cell_type": "code",
   "execution_count": 108,
   "id": "185898bc",
   "metadata": {},
   "outputs": [],
   "source": [
    "#Analisando o tempo médio de venda (dias) por faixa de preço\n",
    "\n",
    "bins = [0, 5000, 10000, 15000, 20000, 30000, 40000, 50000, 70000, 100000, df['price'].max()]\n",
    "labels = [\n",
    "    '≤5k', '5–10k', '10–15k', '15–20k',\n",
    "    '20–30k', '30–40k', '40–50k', '50–70k',\n",
    "    '70–100k', '100k+'\n",
    "]\n",
    "df['price_range'] = pd.cut(df['price'], bins=bins, labels=labels, include_lowest=True)\n",
    "\n",
    "#Calculando tempo médio de venda por faixa de preço\n",
    "avg_days = df.groupby('price_range', observed=False)['days_listed'].mean().reset_index()\n",
    "\n",
    "#Criando o gráfico de barras\n",
    "fig = px.bar(\n",
    "    avg_days,\n",
    "    x='price_range',\n",
    "    y='days_listed',\n",
    "    title='Tempo médio de venda por faixa de preço',\n",
    "    labels={'price_range': 'Faixa de preço ($)', 'days_listed': 'Dias listados'},\n",
    "    color_discrete_sequence=['mediumseagreen']\n",
    ")\n",
    "\n",
    "fig.update_layout(xaxis_tickangle=-45)\n",
    "fig.show()"
   ]
  },
  {
   "cell_type": "code",
   "execution_count": null,
   "id": "b2e93c89",
   "metadata": {},
   "outputs": [],
   "source": [
    "#Analisando o tempo de venda em relação ao tipo do carro\n",
    "\n",
    "#Agrupando por tipo e calculando o tempo médio de venda\n",
    "avg_days_by_type = df.groupby('type')['days_listed'].mean().reset_index().sort_values(by='days_listed', ascending=False)\n",
    "\n",
    "#Criando o gráfico de barras\n",
    "fig = px.bar(\n",
    "    avg_days_by_type,\n",
    "    x='type',\n",
    "    y='days_listed',\n",
    "    title='Tempo médio de venda por tipo de carro',\n",
    "    labels={'type': 'Tipo de carro', 'days_listed': 'Dias listados'},\n",
    "    color_discrete_sequence=['teal']\n",
    ")\n",
    "\n",
    "fig.update_layout(xaxis_tickangle=-45)\n",
    "fig.show()"
   ]
  }
 ],
 "metadata": {
  "kernelspec": {
   "display_name": "vehicles_env",
   "language": "python",
   "name": "python3"
  },
  "language_info": {
   "codemirror_mode": {
    "name": "ipython",
    "version": 3
   },
   "file_extension": ".py",
   "mimetype": "text/x-python",
   "name": "python",
   "nbconvert_exporter": "python",
   "pygments_lexer": "ipython3",
   "version": "3.13.5"
  }
 },
 "nbformat": 4,
 "nbformat_minor": 5
}
